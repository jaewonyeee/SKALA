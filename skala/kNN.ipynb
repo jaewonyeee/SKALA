{
 "cells": [
  {
   "cell_type": "code",
   "execution_count": 1,
   "metadata": {
    "executionInfo": {
     "elapsed": 2199,
     "status": "ok",
     "timestamp": 1696565297937,
     "user": {
      "displayName": "Sung Ryel Lim",
      "userId": "17832580391396757133"
     },
     "user_tz": -540
    },
    "id": "iaDlLSIyHIBF"
   },
   "outputs": [],
   "source": [
    "## 필요한 라이브러리, 모듈 로딩\n",
    "import pandas as pd\n",
    "import numpy as np\n",
    "import matplotlib.pyplot as plt\n",
    "\n",
    "from collections import Counter\n",
    "from tqdm import tqdm\n",
    "from sklearn.datasets import load_iris\n",
    "from sklearn.model_selection import train_test_split"
   ]
  },
  {
   "cell_type": "code",
   "execution_count": 2,
   "metadata": {
    "executionInfo": {
     "elapsed": 341,
     "status": "ok",
     "timestamp": 1696565307681,
     "user": {
      "displayName": "Sung Ryel Lim",
      "userId": "17832580391396757133"
     },
     "user_tz": -540
    },
    "id": "x7-Q7ZCWHYtJ"
   },
   "outputs": [],
   "source": [
    "## iris 데이터 가져와서 사용\n",
    "iris = load_iris()\n",
    "df = pd.DataFrame(np.c_[iris['data'],iris['target']],columns=iris['feature_names']+['label'])"
   ]
  },
  {
   "cell_type": "code",
   "execution_count": 3,
   "metadata": {
    "colab": {
     "base_uri": "https://localhost:8080/",
     "height": 206
    },
    "executionInfo": {
     "elapsed": 343,
     "status": "ok",
     "timestamp": 1696565311068,
     "user": {
      "displayName": "Sung Ryel Lim",
      "userId": "17832580391396757133"
     },
     "user_tz": -540
    },
    "id": "8SqUeJeWHb5-",
    "outputId": "475e6db2-8003-4659-d82b-11e65e7be6a4"
   },
   "outputs": [
    {
     "data": {
      "text/html": [
       "<div>\n",
       "<style scoped>\n",
       "    .dataframe tbody tr th:only-of-type {\n",
       "        vertical-align: middle;\n",
       "    }\n",
       "\n",
       "    .dataframe tbody tr th {\n",
       "        vertical-align: top;\n",
       "    }\n",
       "\n",
       "    .dataframe thead th {\n",
       "        text-align: right;\n",
       "    }\n",
       "</style>\n",
       "<table border=\"1\" class=\"dataframe\">\n",
       "  <thead>\n",
       "    <tr style=\"text-align: right;\">\n",
       "      <th></th>\n",
       "      <th>sepal length (cm)</th>\n",
       "      <th>sepal width (cm)</th>\n",
       "      <th>petal length (cm)</th>\n",
       "      <th>petal width (cm)</th>\n",
       "      <th>label</th>\n",
       "    </tr>\n",
       "  </thead>\n",
       "  <tbody>\n",
       "    <tr>\n",
       "      <th>0</th>\n",
       "      <td>5.1</td>\n",
       "      <td>3.5</td>\n",
       "      <td>1.4</td>\n",
       "      <td>0.2</td>\n",
       "      <td>0.0</td>\n",
       "    </tr>\n",
       "    <tr>\n",
       "      <th>1</th>\n",
       "      <td>4.9</td>\n",
       "      <td>3.0</td>\n",
       "      <td>1.4</td>\n",
       "      <td>0.2</td>\n",
       "      <td>0.0</td>\n",
       "    </tr>\n",
       "    <tr>\n",
       "      <th>2</th>\n",
       "      <td>4.7</td>\n",
       "      <td>3.2</td>\n",
       "      <td>1.3</td>\n",
       "      <td>0.2</td>\n",
       "      <td>0.0</td>\n",
       "    </tr>\n",
       "    <tr>\n",
       "      <th>3</th>\n",
       "      <td>4.6</td>\n",
       "      <td>3.1</td>\n",
       "      <td>1.5</td>\n",
       "      <td>0.2</td>\n",
       "      <td>0.0</td>\n",
       "    </tr>\n",
       "    <tr>\n",
       "      <th>4</th>\n",
       "      <td>5.0</td>\n",
       "      <td>3.6</td>\n",
       "      <td>1.4</td>\n",
       "      <td>0.2</td>\n",
       "      <td>0.0</td>\n",
       "    </tr>\n",
       "  </tbody>\n",
       "</table>\n",
       "</div>"
      ],
      "text/plain": [
       "   sepal length (cm)  sepal width (cm)  petal length (cm)  petal width (cm)  \\\n",
       "0                5.1               3.5                1.4               0.2   \n",
       "1                4.9               3.0                1.4               0.2   \n",
       "2                4.7               3.2                1.3               0.2   \n",
       "3                4.6               3.1                1.5               0.2   \n",
       "4                5.0               3.6                1.4               0.2   \n",
       "\n",
       "   label  \n",
       "0    0.0  \n",
       "1    0.0  \n",
       "2    0.0  \n",
       "3    0.0  \n",
       "4    0.0  "
      ]
     },
     "execution_count": 3,
     "metadata": {},
     "output_type": "execute_result"
    }
   ],
   "source": [
    "df.head()"
   ]
  },
  {
   "cell_type": "code",
   "execution_count": 4,
   "metadata": {
    "executionInfo": {
     "elapsed": 284,
     "status": "ok",
     "timestamp": 1696565317185,
     "user": {
      "displayName": "Sung Ryel Lim",
      "userId": "17832580391396757133"
     },
     "user_tz": -540
    },
    "id": "HkZusvHxHdwG"
   },
   "outputs": [],
   "source": [
    "## 데이터를 학습 데이터, 테스트 데이터, 검증 데이터로 분할\n",
    "x = df[iris['feature_names']]\n",
    "y = df['label']\n",
    "train_x, test_x, train_y, test_y = train_test_split(x, y, test_size=0.2, random_state=42)\n",
    "train_x, val_x, train_y, val_y = train_test_split(train_x, train_y, test_size=0.33, random_state=42)"
   ]
  },
  {
   "cell_type": "code",
   "execution_count": 5,
   "metadata": {
    "executionInfo": {
     "elapsed": 319,
     "status": "ok",
     "timestamp": 1696565446970,
     "user": {
      "displayName": "Sung Ryel Lim",
      "userId": "17832580391396757133"
     },
     "user_tz": -540
    },
    "id": "WtoPfgi2CusQ"
   },
   "outputs": [],
   "source": [
    "def knn_predict(data,X,y,k=1):\n",
    "    distances = []\n",
    "    for val in X:\n",
    "        distance = np.linalg.norm(data-val)\n",
    "        distances.append(distance)\n",
    "\n",
    "    distances = np.array(distances)\n",
    "    if k < len(distances):\n",
    "        idx = np.argpartition(distances,k)\n",
    "        prediction = Counter(y[idx[:k]]).most_common()[0][0]\n",
    "    else:\n",
    "        prediction = Counter(y).most_common()[0][0]\n",
    "    return prediction"
   ]
  },
  {
   "cell_type": "code",
   "execution_count": 6,
   "metadata": {
    "colab": {
     "base_uri": "https://localhost:8080/",
     "height": 720
    },
    "executionInfo": {
     "elapsed": 2393,
     "status": "ok",
     "timestamp": 1696565459419,
     "user": {
      "displayName": "Sung Ryel Lim",
      "userId": "17832580391396757133"
     },
     "user_tz": -540
    },
    "id": "SSZRzefwH-Ll",
    "outputId": "9047d0e2-f91a-4131-dd47-e1e6ce4e390f"
   },
   "outputs": [
    {
     "name": "stderr",
     "output_type": "stream",
     "text": [
      "100%|██████████| 79/79 [00:00<00:00, 81.01it/s]\n"
     ]
    },
    {
     "data": {
      "image/png": "[encoded data removed]",
      "text/plain": [
       "<Figure size 800x800 with 1 Axes>"
      ]
     },
     "metadata": {},
     "output_type": "display_data"
    }
   ],
   "source": [
    "## 검증 데이터를 토대로, 최적의 k 찾기\n",
    "knn_val_error = []\n",
    "ks = range(1,len(train_x))\n",
    "for k in tqdm(ks):\n",
    "    predict = []\n",
    "    for j in range(len(val_x)):\n",
    "        data = val_x.values[j]\n",
    "        data = np.array(data)\n",
    "        predict.append(knn_predict(data,train_x.values,train_y.values,k))\n",
    "\n",
    "    predict = np.array(predict)\n",
    "    ktre = 1 - (val_y == predict).mean()\n",
    "    knn_val_error.append(ktre)\n",
    "\n",
    "fig = plt.figure(figsize=(8,8))\n",
    "fig.set_facecolor('white')\n",
    "\n",
    "plt.plot(ks, knn_val_error)\n",
    "plt.xlabel('k',fontsize=15)\n",
    "plt.show()"
   ]
  },
  {
   "cell_type": "code",
   "execution_count": 7,
   "metadata": {
    "executionInfo": {
     "elapsed": 289,
     "status": "ok",
     "timestamp": 1696565471192,
     "user": {
      "displayName": "Sung Ryel Lim",
      "userId": "17832580391396757133"
     },
     "user_tz": -540
    },
    "id": "WQsqE8sCID-T"
   },
   "outputs": [],
   "source": [
    "min_val_error = min(knn_val_error)\n",
    "opt_k = knn_val_error.index(min_val_error)+1 ## optimal k"
   ]
  },
  {
   "cell_type": "code",
   "execution_count": 8,
   "metadata": {
    "colab": {
     "base_uri": "https://localhost:8080/"
    },
    "executionInfo": {
     "elapsed": 4,
     "status": "ok",
     "timestamp": 1696565474297,
     "user": {
      "displayName": "Sung Ryel Lim",
      "userId": "17832580391396757133"
     },
     "user_tz": -540
    },
    "id": "-fTDo-anIPBf",
    "outputId": "bf5787c4-bf40-4fc2-9c77-a67176d14a2a"
   },
   "outputs": [
    {
     "name": "stdout",
     "output_type": "stream",
     "text": [
      "10\n"
     ]
    }
   ],
   "source": [
    "print(opt_k)"
   ]
  },
  {
   "cell_type": "code",
   "execution_count": 9,
   "metadata": {
    "executionInfo": {
     "elapsed": 410,
     "status": "ok",
     "timestamp": 1696565492929,
     "user": {
      "displayName": "Sung Ryel Lim",
      "userId": "17832580391396757133"
     },
     "user_tz": -540
    },
    "id": "W6NXlaYmIV_z"
   },
   "outputs": [],
   "source": [
    "## 최적 k를 토대로 테스트 데이터를 이용해서 모형을 평가\n",
    "k = opt_k\n",
    "knn_test_error = []\n",
    "\n",
    "predict = []\n",
    "for j in range(len(test_x)):\n",
    "    data = test_x.values[j]\n",
    "    data = np.array(data)\n",
    "    predict.append(knn_predict(data,train_x.values,train_y.values,k))\n",
    "\n",
    "predict = np.array(predict)\n",
    "kte = 1-(test_y == predict).mean()"
   ]
  },
  {
   "cell_type": "code",
   "execution_count": 10,
   "metadata": {
    "colab": {
     "base_uri": "https://localhost:8080/"
    },
    "executionInfo": {
     "elapsed": 5,
     "status": "ok",
     "timestamp": 1696565497837,
     "user": {
      "displayName": "Sung Ryel Lim",
      "userId": "17832580391396757133"
     },
     "user_tz": -540
    },
    "id": "hi9ClE_5IYc9",
    "outputId": "a27703e8-51d0-4a79-b864-cafd7aa77dab"
   },
   "outputs": [
    {
     "name": "stdout",
     "output_type": "stream",
     "text": [
      "0.0\n"
     ]
    }
   ],
   "source": [
    "## 모형 평가 결과, 에러율 0\n",
    "print(kte)"
   ]
  },
  {
   "cell_type": "code",
   "execution_count": 11,
   "metadata": {
    "executionInfo": {
     "elapsed": 5,
     "status": "ok",
     "timestamp": 1696565518216,
     "user": {
      "displayName": "Sung Ryel Lim",
      "userId": "17832580391396757133"
     },
     "user_tz": -540
    },
    "id": "-KmmGH6yIdcj"
   },
   "outputs": [],
   "source": [
    "## scikit learn 라이브러리 이용하기\n",
    "from sklearn.neighbors import KNeighborsClassifier\n",
    "\n",
    "neigh = KNeighborsClassifier(n_neighbors=opt_k)\n",
    "neigh.fit(train_x.values, train_y.values)\n",
    "\n",
    "knn_test_error = []\n",
    "\n",
    "predict = []\n",
    "for j in range(len(test_x)):\n",
    "    data = test_x.values[j]\n",
    "    data = np.array(data)\n",
    "    data = np.expand_dims(data, axis=0)\n",
    "    predict.append(neigh.predict(data))\n",
    "\n",
    "predict = np.squeeze(predict)\n",
    "kte = 1-(test_y == predict).mean()"
   ]
  },
  {
   "cell_type": "code",
   "execution_count": 12,
   "metadata": {
    "colab": {
     "base_uri": "https://localhost:8080/"
    },
    "executionInfo": {
     "elapsed": 335,
     "status": "ok",
     "timestamp": 1696565530203,
     "user": {
      "displayName": "Sung Ryel Lim",
      "userId": "17832580391396757133"
     },
     "user_tz": -540
    },
    "id": "N8h9PY4BIgAi",
    "outputId": "21be17c8-679e-43d2-e7cf-7f678f0e6889"
   },
   "outputs": [
    {
     "name": "stdout",
     "output_type": "stream",
     "text": [
      "0.0\n"
     ]
    }
   ],
   "source": [
    "## 다시 모형 평가 결과, 에러율 0\n",
    "print(kte)"
   ]
  }
 ],
 "metadata": {
  "colab": {
   "authorship_tag": "ABX9TyP/0hw2l9lbZvgYwzjqkAEC",
   "provenance": []
  },
  "kernelspec": {
   "display_name": "Python 3",
   "name": "python3"
  },
  "language_info": {
   "codemirror_mode": {
    "name": "ipython",
    "version": 3
   },
   "file_extension": ".py",
   "mimetype": "text/x-python",
   "name": "python",
   "nbconvert_exporter": "python",
   "pygments_lexer": "ipython3",
   "version": "3.10.12"
  }
 },
 "nbformat": 4,
 "nbformat_minor": 0
}
